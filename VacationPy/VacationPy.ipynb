{
 "cells": [
  {
   "cell_type": "code",
   "execution_count": 6,
   "metadata": {},
   "outputs": [],
   "source": [
    "# Dependencies and Setup\n",
    "import matplotlib.pyplot as plt\n",
    "import pandas as pd\n",
    "import numpy as np\n",
    "import requests\n",
    "import gmaps \n",
    "import os\n",
    "from pprint import pprint\n",
    "\n",
    "# Import API key\n",
    "from api_keys import g_key #put your API keys file in the same folder as this program"
   ]
  },
  {
   "cell_type": "code",
   "execution_count": 7,
   "metadata": {},
   "outputs": [],
   "source": [
    "#read in the city data csv created by WeatherPy\n",
    "file = \"../output_data/cityinfo.csv\"\n",
    "city_df = pd.read_csv(file)"
   ]
  },
  {
   "cell_type": "code",
   "execution_count": 8,
   "metadata": {},
   "outputs": [],
   "source": [
    "#Configure data needed for the humidity heatmap\n",
    "gmaps.configure(api_key=g_key)\n",
    "locations = city_df[[\"City Latitude\", \"City Longitude\"]].astype(float)\n",
    "humidity = city_df[\"Humidity\"].astype(float)\n",
    "#print(locations)"
   ]
  },
  {
   "cell_type": "code",
   "execution_count": 9,
   "metadata": {},
   "outputs": [
    {
     "data": {
      "application/vnd.jupyter.widget-view+json": {
       "model_id": "b5c84906213b41c2ab6e1a97dcf4baab",
       "version_major": 2,
       "version_minor": 0
      },
      "text/plain": [
       "Figure(layout=FigureLayout(height='420px'))"
      ]
     },
     "metadata": {},
     "output_type": "display_data"
    }
   ],
   "source": [
    "#create and display the humidity heatmap with gmaps\n",
    "fig = gmaps.figure()\n",
    "humid_layer = gmaps.heatmap_layer(locations, weights=humidity, \n",
    "                                 dissipating=False, max_intensity=100,\n",
    "                                 point_radius = 1)\n",
    "fig.add_layer(humid_layer)\n",
    "fig"
   ]
  },
  {
   "cell_type": "code",
   "execution_count": 10,
   "metadata": {},
   "outputs": [],
   "source": [
    "#Narrow down the cities into ones fitting the proper conditions to serve as a vacation location\n",
    "city_df.head()\n",
    "test = city_df[(city_df[\"Max Temperature\"] <= 80) & (city_df[\"Max Temperature\"] > 50) & \n",
    "               (city_df[\"Cloud Coverage\"] < 20) & (city_df[\"Humidity\"] < 65) & (city_df[\"Humidity\"] > 35) &\n",
    "               (city_df[\"Wind Speed\"] < 10)]\n",
    "#We're interested in cities with max temperatures between 50 and 80 degrees, less than 20% cloud coverage, \n",
    "#humidity between 35 and 65%, and a wind speed below 10\n",
    "#these conditions are pretty strict so there may be less than 10 results left at the end\n",
    "\n",
    "#Rename a few columns to be more readable in our hotel dataframe\n",
    "test =  test.rename(columns={\"City Name\": \"City\",\"City Country\": \"Country\", \n",
    "                             \"City Latitude\": \"Latitude\", \"City Longitude\": \"Longitude\"}) \n",
    "\n",
    "hotel_df =  test[[\"City\",\"Country\",\"Latitude\",\"Longitude\"]] #create the hotel dataframe with only the necessary rows\n",
    "#print(hotel_df)\n",
    "hotel_df = hotel_df.head(10) #reduce the preliminary results to 10"
   ]
  },
  {
   "cell_type": "code",
   "execution_count": 11,
   "metadata": {},
   "outputs": [],
   "source": [
    "#Access the api and gather the data needed to create the hotel map\n",
    "base_url = \"https://maps.googleapis.com/maps/api/place/nearbysearch/json\" #url to access to find hotels\n",
    "hotel_names = [] #create a list to hold each hotel found\n",
    "for row in hotel_df.itertuples():\n",
    "    latlon = f\"{row[3]},{row[4]}\" #latitude and longitude for each city\n",
    "    params = {\n",
    "        \"location\": latlon, \n",
    "        \"rankby\": \"distance\", #Closest hotels first\n",
    "        \"type\": \"lodging\", \n",
    "        \"keyword\": \"hotel\",\n",
    "        \"key\": g_key,\n",
    "    }\n",
    "    response = requests.get(base_url, params=params).json() #access the api and find hotels\n",
    "    results = response['results']\n",
    "    try:\n",
    "        hotel_names.append(results[0]['name']) #add the name of the closest hotel found for each city to a list\n",
    "    except (KeyError, IndexError):\n",
    "        hotel_names.append(\"N/A\") #Add \"N/A\" to the list for any cities that do not have a suitable hotel found\n",
    "\n",
    "hotel_df[\"Hotel Name\"] = hotel_names\n",
    "hotel_df = hotel_df[hotel_df[\"Hotel Name\"] != \"N/A\"] #drop any cities that do not have a suitable hotel, as they are\n",
    "#no longer a valid vacation target"
   ]
  },
  {
   "cell_type": "code",
   "execution_count": 12,
   "metadata": {},
   "outputs": [],
   "source": [
    "# Using the template add the hotel marks to the heatmap\n",
    "info_box_template = \"\"\"\n",
    "<dl>\n",
    "<dt>Name</dt><dd>{Hotel Name}</dd>\n",
    "<dt>City</dt><dd>{City}</dd>\n",
    "<dt>Country</dt><dd>{Country}</dd>\n",
    "</dl>\n",
    "\"\"\"\n",
    "\n",
    "hotel_info = [info_box_template.format(**row) for index, row in hotel_df.iterrows()]#store hotel info in usable format\n",
    "locations = hotel_df[[\"Latitude\", \"Longitude\"]]"
   ]
  },
  {
   "cell_type": "code",
   "execution_count": 13,
   "metadata": {},
   "outputs": [
    {
     "data": {
      "application/vnd.jupyter.widget-view+json": {
       "model_id": "7d1c78b7981d494895dbee0858499329",
       "version_major": 2,
       "version_minor": 0
      },
      "text/plain": [
       "Figure(layout=FigureLayout(height='420px'))"
      ]
     },
     "metadata": {},
     "output_type": "display_data"
    }
   ],
   "source": [
    "# Add marker layer ontop of heat map and display all the hotel locations with gmaps\n",
    "\n",
    "hotel_layer = gmaps.marker_layer(locations, info_box_content=hotel_info)\n",
    "\n",
    "fig = gmaps.figure()\n",
    "\n",
    "fig.add_layer(humid_layer)\n",
    "fig.add_layer(hotel_layer)\n",
    "\n",
    "fig"
   ]
  }
 ],
 "metadata": {
  "kernelspec": {
   "display_name": "Python [conda env:.conda-PythonData] *",
   "language": "python",
   "name": "conda-env-.conda-PythonData-py"
  },
  "language_info": {
   "codemirror_mode": {
    "name": "ipython",
    "version": 3
   },
   "file_extension": ".py",
   "mimetype": "text/x-python",
   "name": "python",
   "nbconvert_exporter": "python",
   "pygments_lexer": "ipython3",
   "version": "3.6.10"
  },
  "latex_envs": {
   "LaTeX_envs_menu_present": true,
   "autoclose": false,
   "autocomplete": true,
   "bibliofile": "biblio.bib",
   "cite_by": "apalike",
   "current_citInitial": 1,
   "eqLabelWithNumbers": true,
   "eqNumInitial": 1,
   "hotkeys": {
    "equation": "Ctrl-E",
    "itemize": "Ctrl-I"
   },
   "labels_anchors": false,
   "latex_user_defs": false,
   "report_style_numbering": false,
   "user_envs_cfg": false
  }
 },
 "nbformat": 4,
 "nbformat_minor": 2
}
